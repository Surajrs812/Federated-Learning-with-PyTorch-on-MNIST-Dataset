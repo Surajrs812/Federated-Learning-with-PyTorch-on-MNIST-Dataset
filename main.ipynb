{
  "nbformat": 4,
  "nbformat_minor": 0,
  "metadata": {
    "colab": {
      "private_outputs": true,
      "provenance": [],
      "gpuType": "T4"
    },
    "kernelspec": {
      "name": "python3",
      "display_name": "Python 3"
    },
    "language_info": {
      "name": "python"
    },
    "accelerator": "GPU"
  },
  "cells": [
    {
      "cell_type": "code",
      "source": [
        "import torch\n",
        "from torchvision.datasets import MNIST\n",
        "from torch.utils.data import random_split, DataLoader\n",
        "import torchvision.transforms as transforms\n",
        "import torch.nn as nn\n",
        "import torch.nn.functional as F\n",
        "import torch.optim as optim\n",
        "import random"
      ],
      "metadata": {
        "id": "jVEZY7jo44DO"
      },
      "execution_count": null,
      "outputs": []
    },
    {
      "cell_type": "code",
      "source": [
        "# Define device (CPU or GPU)\n",
        "device = torch.device('cuda' if torch.cuda.is_available() else 'cpu')\n",
        "\n",
        "# Define MNIST dataset and transformations\n",
        "train_dataset = MNIST('./data', train=True, download=True, transform=transforms.ToTensor())\n",
        "test_dataset = MNIST('./data', train=False, download=True, transform=transforms.ToTensor())\n",
        "\n",
        "# Split train_dataset into train and validation sets\n",
        "train_dataset, dev_dataset = random_split(train_dataset, [50000, 10000])  # Adjust split sizes as needed"
      ],
      "metadata": {
        "id": "RBGkXmHJbjkp"
      },
      "execution_count": null,
      "outputs": []
    },
    {
      "cell_type": "code",
      "source": [
        "# Define batch size and number of clients\n",
        "batch_size = 64\n",
        "num_clients = 4"
      ],
      "metadata": {
        "id": "22w6Rl-fbuxe"
      },
      "execution_count": null,
      "outputs": []
    },
    {
      "cell_type": "markdown",
      "source": [
        "### Federated Model Architecture and Client Architecture"
      ],
      "metadata": {
        "id": "irFcFIzacV6g"
      }
    },
    {
      "cell_type": "code",
      "source": [
        "# Define FederatedNet model architecture\n",
        "class FederatedNet(nn.Module):\n",
        "    def __init__(self):\n",
        "        super(FederatedNet, self).__init__()\n",
        "        self.conv1 = nn.Conv2d(1, 20, 5, 1)\n",
        "        self.conv2 = nn.Conv2d(20, 50, 5, 1)\n",
        "        self.fc1 = nn.Linear(4*4*50, 500)\n",
        "        self.fc2 = nn.Linear(500, 10)\n",
        "\n",
        "    def forward(self, x):\n",
        "        x = F.relu(self.conv1(x))\n",
        "        x = F.max_pool2d(x, 2, 2)\n",
        "        x = F.relu(self.conv2(x))\n",
        "        x = F.max_pool2d(x, 2, 2)\n",
        "        x = x.view(-1, 4*4*50)\n",
        "        x = F.relu(self.fc1(x))\n",
        "        x = self.fc2(x)\n",
        "        return F.log_softmax(x, dim=1)\n",
        "\n",
        "# Define Client class\n",
        "class Client:\n",
        "    def __init__(self, client_id, dataset):\n",
        "        self.client_id = client_id\n",
        "        self.dataset = dataset\n",
        "\n",
        "    def train(self, global_model, epochs, lr):\n",
        "        # Load model and data to device\n",
        "        model = FederatedNet().to(device)\n",
        "        model.load_state_dict(global_model.state_dict())  # Initialize client model with global model's parameters\n",
        "        optimizer = optim.SGD(model.parameters(), lr=lr)\n",
        "\n",
        "        # Create DataLoader for client's dataset\n",
        "        train_loader = DataLoader(self.dataset, batch_size=batch_size, shuffle=True)\n",
        "\n",
        "        # Training loop\n",
        "        for epoch in range(epochs):\n",
        "            model.train()\n",
        "            running_loss = 0.0\n",
        "            for data, target in train_loader:\n",
        "                data, target = data.to(device), target.to(device)\n",
        "                optimizer.zero_grad()\n",
        "                output = model(data)\n",
        "                loss = F.nll_loss(output, target)\n",
        "                loss.backward()\n",
        "                optimizer.step()\n",
        "                running_loss += loss.item() * data.size(0)\n",
        "            print(f'Client {self.client_id}, Epoch {epoch+1}, Loss: {running_loss / len(train_loader.dataset)}')\n",
        "\n",
        "        # Return trained model parameters\n",
        "        return model.state_dict()"
      ],
      "metadata": {
        "id": "yf3rL1C0cTHa"
      },
      "execution_count": null,
      "outputs": []
    },
    {
      "cell_type": "code",
      "source": [
        "# Initialize global model and randomize its parameters\n",
        "global_model = FederatedNet().to(device)\n",
        "for param in global_model.parameters():\n",
        "    param.data = torch.randn_like(param)\n",
        "\n",
        "# Prepare data splits for clients\n",
        "client_datasets = random_split(train_dataset, [len(train_dataset) // num_clients] * num_clients)"
      ],
      "metadata": {
        "id": "IWrPGkThb53z"
      },
      "execution_count": null,
      "outputs": []
    },
    {
      "cell_type": "code",
      "source": [
        "# Create client instances\n",
        "clients = [Client(client_id=i, dataset=client_datasets[i]) for i in range(num_clients)]\n",
        "\n",
        "# Federated learning parameters\n",
        "epochs_per_round = 5\n",
        "learning_rate = 0.01\n",
        "rounds = 5"
      ],
      "metadata": {
        "id": "anGVjS3ab_M3"
      },
      "execution_count": null,
      "outputs": []
    },
    {
      "cell_type": "code",
      "source": [
        "# Federated learning loop\n",
        "for round_num in range(rounds):\n",
        "    print(f'Starting round {round_num + 1}...')\n",
        "\n",
        "    # Aggregate client updates\n",
        "    new_global_state_dict = {}\n",
        "    for client in clients:\n",
        "        client_model_state_dict = client.train(global_model, epochs_per_round, learning_rate)\n",
        "\n",
        "        # Weighted average aggregation (for simplicity, we assume equal weighting)\n",
        "        for key in client_model_state_dict:\n",
        "            if key in new_global_state_dict:\n",
        "                new_global_state_dict[key] += client_model_state_dict[key] / num_clients\n",
        "            else:\n",
        "                new_global_state_dict[key] = client_model_state_dict[key] / num_clients\n",
        "\n",
        "    # Update global model with aggregated parameters\n",
        "    global_model.load_state_dict(new_global_state_dict)\n",
        "\n",
        "    # Evaluation on training and validation sets\n",
        "    def evaluate(model, dataset):\n",
        "        model.eval()\n",
        "        dataloader = DataLoader(dataset, batch_size=batch_size)\n",
        "        total_loss = 0.0\n",
        "        total_correct = 0\n",
        "        with torch.no_grad():\n",
        "            for data, target in dataloader:\n",
        "                data, target = data.to(device), target.to(device)\n",
        "                output = model(data)\n",
        "                loss = F.nll_loss(output, target, reduction='sum').item()\n",
        "                total_loss += loss\n",
        "                pred = output.argmax(dim=1, keepdim=True)\n",
        "                total_correct += pred.eq(target.view_as(pred)).sum().item()\n",
        "        return total_loss / len(dataset), total_correct / len(dataset)\n",
        "\n",
        "    train_loss, train_acc = evaluate(global_model, train_dataset)\n",
        "    dev_loss, dev_acc = evaluate(global_model, dev_dataset)\n",
        "    print(f'\\nRound {round_num + 1}, Train Loss: {train_loss:.4f}, Train Acc: {train_acc:.4f}, Dev Loss: {dev_loss:.4f}, Dev Acc: {dev_acc:.4f}\\n')"
      ],
      "metadata": {
        "id": "m8wQjl52cFZo"
      },
      "execution_count": null,
      "outputs": []
    },
    {
      "cell_type": "code",
      "source": [
        "# Evaluate final model on test set\n",
        "test_loss, test_acc = evaluate(global_model, test_dataset)\n",
        "print(f'Final Test Loss: {test_loss:.4f}, Test Acc: {test_acc:.4f}')"
      ],
      "metadata": {
        "id": "qlFG1xeacLPA"
      },
      "execution_count": null,
      "outputs": []
    }
  ]
}